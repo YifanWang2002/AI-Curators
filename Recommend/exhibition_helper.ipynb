{
 "cells": [
  {
   "cell_type": "code",
   "execution_count": 18,
   "metadata": {},
   "outputs": [],
   "source": [
    "import pandas as pd\n",
    "from openai import OpenAI\n",
    "# import json"
   ]
  },
  {
   "cell_type": "code",
   "execution_count": 4,
   "metadata": {},
   "outputs": [],
   "source": [
    "df = pd.read_csv('D:\\\\Metaverse_Museum\\\\AI-Curators\\\\Recommend\\\\output\\\\User001\\\\2024-08-05_17-26-27.359981\\\\Exhibition 1.csv')"
   ]
  },
  {
   "cell_type": "code",
   "execution_count": 109,
   "metadata": {},
   "outputs": [],
   "source": [
    "df2 = pd.read_csv('D:\\\\Metaverse_Museum\\\\AI-Curators\\\\Recommend\\\\output\\\\User001\\\\2024-08-05_17-26-27.359981\\\\Exhibition 2.csv')"
   ]
  },
  {
   "cell_type": "code",
   "execution_count": 100,
   "metadata": {},
   "outputs": [],
   "source": [
    "# Save the titles and artists of the dataframe into a string in the format of \"title1, artist1; title2, artist2; ...\"\n",
    "exhibition = \"\"\n",
    "for index, row in df.iterrows():\n",
    "    exhibition += row['title'] + \", \" + row['artist_display'] + \"; \""
   ]
  },
  {
   "cell_type": "code",
   "execution_count": 110,
   "metadata": {},
   "outputs": [],
   "source": [
    "# Save the titles and artists of the dataframe into a string in the format of \"title1, artist1; title2, artist2; ...\"\n",
    "exhibition2 = \"\"\n",
    "for index, row in df2.iterrows():\n",
    "    exhibition2 += row['title'] + \", \" + row['artist_display'] + \"; \""
   ]
  },
  {
   "cell_type": "code",
   "execution_count": 114,
   "metadata": {},
   "outputs": [
    {
     "data": {
      "text/plain": [
       "\"Woman with a Parasol - Madame Monet and Her Son, Claude Monet (French, 1840-1926); Haystacks, Georges Seurat (French, 1859-1891); Woman Bathing Her Feet in a Brook, Camille Pissarro (French, 1830-1903); The Olive Orchard, Vincent van Gogh (Dutch, 1853-1890); Scenes from a Legend, Giovanni Larciani (Master of the Kress Landscapes) (Florentine, 1484-1527); The Poet's Garden, Vincent van Gogh (Dutch, 1853-1890); Stack of Wheat (Thaw, Sunset), Claude Monet (French, 1840-1926); Man with a Hoe, Georges Seurat (French, 1859-1891); The Artist's Garden at V��theuil, Claude Monet (French, 1840-1926); Meadow, Alfred Sisley (French, 1839-1899); Landscape with Figures, Maurice Prendergast (American, 1858-1924); The Artist's House at Argenteuil, Claude Monet (French, 1840-1926); The Willows, Claude Monet (French, 1840-1926); \""
      ]
     },
     "execution_count": 114,
     "metadata": {},
     "output_type": "execute_result"
    }
   ],
   "source": [
    "exhibition2"
   ]
  },
  {
   "cell_type": "code",
   "execution_count": 113,
   "metadata": {},
   "outputs": [],
   "source": [
    "key = 'key' # your openai key\n",
    "client = OpenAI(api_key=key)"
   ]
  },
  {
   "cell_type": "code",
   "execution_count": 115,
   "metadata": {},
   "outputs": [],
   "source": [
    "response = client.chat.completions.create(\n",
    "  model=\"gpt-4o-mini\",\n",
    "  messages=[\n",
    "    {\n",
    "      \"role\": \"system\",\n",
    "      \"content\": [\n",
    "        {\n",
    "          \"type\": \"text\",\n",
    "          \"text\": \"You are a professional art exhibition curator.  You can give an accurate, straightforward, and informative description for an exhibition of artworks for the general public to understand. An exhibition can be themed based on artists, genre, style, period, color, or any other factors that are shared by the artworks in the exhibition.\\nYou will be given a list of artwork names and the corresponding artists. Provide a Python readable JSON string to describe the artwork with the following keys and values:\\ntitle: <string, in 15 words> An elegant name for the exhibition of artworks,\\ndescription: <string, in 200 words> a paragraph that introduces the themed exhibition to viewers,\\nartworks_orders: <list of strings, ordered> rearrange the order of the input list of artworks for viewers to understand the exhibition.\"\n",
    "        }\n",
    "      ]\n",
    "    },\n",
    "    {\n",
    "      \"role\": \"user\",\n",
    "      \"content\": [\n",
    "        {\n",
    "          \"type\": \"text\",\n",
    "          \"text\": f\"{exhibition}\"\n",
    "        }\n",
    "      ]\n",
    "    }  \n",
    "  ],\n",
    "  temperature=0,\n",
    "  max_tokens=512,\n",
    "  top_p=1,\n",
    "  frequency_penalty=0,\n",
    "  presence_penalty=0\n",
    ")"
   ]
  },
  {
   "cell_type": "code",
   "execution_count": 123,
   "metadata": {},
   "outputs": [
    {
     "data": {
      "text/plain": [
       "ChatCompletion(id='chatcmpl-9t2M27xS95g40f8kbsQ8r12UDckxr', choices=[Choice(finish_reason='stop', index=0, logprobs=None, message=ChatCompletionMessage(content='```json\\n{\\n  \"title\": \"Impressionist Visions: Nature and Still Life in Art\",\\n  \"description\": \"This exhibition showcases a curated selection of Impressionist artworks that celebrate the beauty of nature and the simplicity of still life. Featuring renowned artists such as Claude Monet, Vincent van Gogh, and Pierre-Auguste Renoir, the collection highlights the movement\\'s characteristic use of light, color, and brushwork. Visitors will experience a diverse range of subjects, from serene landscapes and vibrant floral arrangements to intimate still life compositions. Each piece reflects the artists\\' innovative approaches to capturing fleeting moments in time, inviting viewers to appreciate the interplay between nature and everyday life. The exhibition aims to immerse the audience in the Impressionist ethos, emphasizing the importance of observation and the emotional resonance of the natural world. Through this exploration, we hope to inspire a deeper understanding of the artistic techniques and philosophies that defined this transformative period in art history.\",\\n  \"artworks_orders\": [\\n    \"Woman with a Parasol - Madame Monet and Her Son, Claude Monet (French, 1840-1926)\",\\n    \"The Artist\\'s Garden at V��theuil, Claude Monet (French, 1840-1926)\",\\n    \"The Poet\\'s Garden, Vincent van Gogh (Dutch, 1853-1890)\",\\n    \"The Olive Orchard, Vincent van Gogh (Dutch, 1853-1890)\",\\n    \"Haystacks, Georges Seurat (French, 1859-1891)\",\\n    \"Man with a Hoe, Georges Seurat (French, 1859-1891)\",\\n    \"Meadow, Alfred Sisley (French, 1839-1899)\",\\n    \"Landscape with Figures, Maurice Prendergast (American, 1858-1924)\",\\n    \"The Artist\\'s House at Argenteuil, Claude Monet (French, 1840-1926)\",\\n    \"The Willows, Claude Monet (French, 1840-1926)\",\\n    \"Stack of Wheat (Thaw, Sunset), Claude Monet (French, 1840-1926)\",\\n    \"Woman Bathing Her Feet in a Brook, Camille Pissarro (French, 1830-1903)\",\\n    \"Scenes from a Legend, Giovanni Larciani (Master of the Kress Landscapes) (Florentine, 1484-1527)\"\\n  ]\\n}\\n```', role='assistant', function_call=None, tool_calls=None))], created=1722904118, model='gpt-4o-mini-2024-07-18', object='chat.completion', service_tier=None, system_fingerprint='fp_48196bc67a', usage=CompletionUsage(completion_tokens=485, prompt_tokens=663, total_tokens=1148))"
      ]
     },
     "execution_count": 123,
     "metadata": {},
     "output_type": "execute_result"
    }
   ],
   "source": [
    "response"
   ]
  },
  {
   "cell_type": "code",
   "execution_count": 105,
   "metadata": {},
   "outputs": [],
   "source": [
    "result = response.choices[0].message.content.split(\"\\n\")"
   ]
  },
  {
   "cell_type": "code",
   "execution_count": 106,
   "metadata": {},
   "outputs": [],
   "source": [
    "exhibition_temp = {}\n",
    "get_artworks = False\n",
    "artworks = []\n",
    "for line in result:\n",
    "    if not get_artworks:\n",
    "        if \"title\" in line:\n",
    "            exhibition_temp['title'] = line.split('\": ')[1].replace('\"', '').replace(\", \", \"\")\n",
    "        elif \"description\" in line:\n",
    "            exhibition_temp['description'] = line.split('\": ')[1].replace('\"', '').replace(\", \", \"\")\n",
    "        elif \"artworks_orders\" in line:\n",
    "            get_artworks = True\n",
    "    else:\n",
    "        if ']' in line:\n",
    "            exhibition_temp['artworks_orders'] = artworks\n",
    "            break\n",
    "        else:\n",
    "            title = line.split(\", \")[0]\n",
    "            artworks.append(title.replace('\"', '').replace(\",\", \"\").lstrip())"
   ]
  },
  {
   "cell_type": "code",
   "execution_count": 108,
   "metadata": {},
   "outputs": [
    {
     "data": {
      "text/plain": [
       "{'title': 'The Essence of Still Life: A Journey Through Time and Color,',\n",
       " 'description': \"This exhibition'The Essence of Still Life,' invites viewers to explore the rich tradition of still life paintingshowcasing the works of renowned artists from the 19th and early 20th centuries. Each piece reflects the artists' unique interpretations of everyday objectstransforming them into captivating visual narratives. From Cezanne's masterful compositions to Monet's vibrant floral arrangementsthe exhibition highlights the interplay of lightcolorand form. Visitors will encounter a diverse array of subjectsincluding fruitsflowersand domestic sceneseach meticulously crafted to evoke emotion and provoke thought. The exhibition also features works by Renoir and Manetwho brought their own distinctive styles to the genre. By examining these artworksviewers will gain insight into the cultural and historical contexts that shaped the still life traditionas well as the innovative techniques employed by these artists. Join us in celebrating the beauty and complexity of still lifewhere the ordinary becomes extraordinary through the lens of artistic vision.,\",\n",
       " 'artworks_orders': ['Three Pears',\n",
       "  'The Battle of Love',\n",
       "  'Still Life with Bottle',\n",
       "  'Apples and Grapes',\n",
       "  'Jerusalem Artichoke Flowers',\n",
       "  'Chrysanthemums',\n",
       "  'Peaches on a Plate',\n",
       "  'Flowers in a Crystal Vase',\n",
       "  'Still Life with Flowers',\n",
       "  'Eaton Family Memorial',\n",
       "  'Abraham Clark and His Children']}"
      ]
     },
     "execution_count": 108,
     "metadata": {},
     "output_type": "execute_result"
    }
   ],
   "source": [
    "exhibition_temp"
   ]
  },
  {
   "cell_type": "code",
   "execution_count": 52,
   "metadata": {},
   "outputs": [],
   "source": [
    "# Clean the JSON string\n",
    "def clean_json_string(json_str):\n",
    "    # Replace any unwanted escape characters if necessary\n",
    "    json_str = json_str.replace(r'\\n', '')  # Remove newline escape sequences if they are causing issues\n",
    "    json_str = json_str.replace(r'\\t', '')  # Remove tab escape sequences if they are causing issues\n",
    "    return json_str"
   ]
  },
  {
   "cell_type": "code",
   "execution_count": 53,
   "metadata": {},
   "outputs": [],
   "source": [
    "# Clean and parse the JSON string\n",
    "cleaned_json_string = clean_json_string(result)"
   ]
  },
  {
   "cell_type": "code",
   "execution_count": 54,
   "metadata": {},
   "outputs": [
    {
     "data": {
      "text/plain": [
       "'```json\\n{\\n  \"title\": \"The Essence of Still Life: A Journey Through Time and Color\",\\n  \"description\": \"This exhibition, \\'The Essence of Still Life,\\' invites viewers to explore the rich tradition of still life painting, showcasing works from renowned artists such as Paul Cézanne, Claude Monet, and Pierre-Auguste Renoir. Each piece reflects the artists\\' unique interpretations of everyday objects, transforming them into captivating visual narratives. From Cézanne\\'s iconic \\'Three Pears\\' to Monet\\'s vibrant \\'Jerusalem Artichoke Flowers,\\' the exhibition highlights the evolution of still life across different periods and styles. The careful arrangement of fruits, flowers, and everyday items not only demonstrates technical skill but also evokes deeper themes of beauty, transience, and the passage of time. Visitors will appreciate the interplay of color, light, and form as they journey through the works of these masterful artists. The exhibition aims to foster a greater understanding of the still life genre and its significance in the broader context of art history, encouraging viewers to see the extraordinary in the ordinary.\",\\n  \"artworks_orders\": [\\n    \"Three Pears\",\\n    \"The Battle of Love\",\\n    \"Jerusalem Artichoke Flowers\",\\n    \"Still Life with Bottle, Carafe, Bread, and Wine\",\\n    \"Apples and Grapes\",\\n    \"Chrysanthemums\",\\n    \"Peaches on a Plate\",\\n    \"Flowers in a Crystal Vase\",\\n    \"Still Life with Flowers, Grapes, and Small Game Birds\",\\n    \"Eaton Family Memorial\",\\n    \"Abraham Clark and His Children\"\\n  ]\\n}\\n```'"
      ]
     },
     "execution_count": 54,
     "metadata": {},
     "output_type": "execute_result"
    }
   ],
   "source": [
    "cleaned_json_string"
   ]
  },
  {
   "cell_type": "code",
   "execution_count": 55,
   "metadata": {},
   "outputs": [],
   "source": [
    "# data = json.loads(cleaned_json_string)"
   ]
  },
  {
   "cell_type": "code",
   "execution_count": 56,
   "metadata": {},
   "outputs": [],
   "source": [
    "# convert the response string into a dictionary\n"
   ]
  },
  {
   "cell_type": "code",
   "execution_count": 58,
   "metadata": {},
   "outputs": [],
   "source": [
    "# save response to a json file and remove the ``` from the string\n",
    "with open('D:\\\\Metaverse_Museum\\\\AI-Curators\\\\Recommend\\\\output\\\\User001\\\\2024-08-05_17-26-27.359981\\\\exhibition_description.json', 'w') as f:\n",
    "    f.write(json.dumps(response.choices[0].message.content))\n",
    "f.close()    "
   ]
  },
  {
   "cell_type": "code",
   "execution_count": 59,
   "metadata": {},
   "outputs": [],
   "source": [
    "# write the response to a txt file\n",
    "with open('D:\\\\Metaverse_Museum\\\\AI-Curators\\\\Recommend\\\\output\\\\User001\\\\2024-08-05_17-26-27.359981\\\\exhibition_description.txt', 'w') as f:\n",
    "    f.write(result)\n",
    "f.close()"
   ]
  },
  {
   "cell_type": "code",
   "execution_count": 66,
   "metadata": {},
   "outputs": [
    {
     "ename": "ValueError",
     "evalue": "too many values to unpack (expected 2)",
     "output_type": "error",
     "traceback": [
      "\u001b[1;31m---------------------------------------------------------------------------\u001b[0m",
      "\u001b[1;31mValueError\u001b[0m                                Traceback (most recent call last)",
      "Cell \u001b[1;32mIn[66], line 8\u001b[0m\n\u001b[0;32m      6\u001b[0m         \u001b[38;5;28;01mif\u001b[39;00m \u001b[38;5;124m'\u001b[39m\u001b[38;5;124m:\u001b[39m\u001b[38;5;124m'\u001b[39m \u001b[38;5;129;01mnot\u001b[39;00m \u001b[38;5;129;01min\u001b[39;00m line:\n\u001b[0;32m      7\u001b[0m             \u001b[38;5;28;01mcontinue\u001b[39;00m\n\u001b[1;32m----> 8\u001b[0m         key, value \u001b[38;5;241m=\u001b[39m line\u001b[38;5;241m.\u001b[39msplit(\u001b[38;5;124m'\u001b[39m\u001b[38;5;124m:\u001b[39m\u001b[38;5;124m'\u001b[39m)\n\u001b[0;32m      9\u001b[0m         exhibition_dict[key] \u001b[38;5;241m=\u001b[39m value\n\u001b[0;32m     10\u001b[0m f\u001b[38;5;241m.\u001b[39mclose()\n",
      "\u001b[1;31mValueError\u001b[0m: too many values to unpack (expected 2)"
     ]
    }
   ],
   "source": [
    "# read the txt file line by line and save it to a dictionary\n",
    "with open('D:\\\\Metaverse_Museum\\\\AI-Curators\\\\Recommend\\\\output\\\\User001\\\\2024-08-05_17-26-27.359981\\\\exhibition_description.txt', 'r') as f:\n",
    "    lines = f.readlines()\n",
    "    exhibition_dict = {}\n",
    "    for line in lines:\n",
    "        if ':' not in line:\n",
    "            continue\n",
    "        key, value = line.split(':')\n",
    "        exhibition_dict[key] = value\n",
    "f.close()"
   ]
  },
  {
   "cell_type": "code",
   "execution_count": 65,
   "metadata": {},
   "outputs": [
    {
     "data": {
      "text/plain": [
       "['```json\\n',\n",
       " '{\\n',\n",
       " '  \"title\": \"The Essence of Still Life: A Journey Through Time and Color\",\\n',\n",
       " '  \"description\": \"This exhibition, \\'The Essence of Still Life,\\' invites viewers to explore the rich tradition of still life painting, showcasing works from renowned artists such as Paul Cézanne, Claude Monet, and Pierre-Auguste Renoir. Each piece reflects the artists\\' unique interpretations of everyday objects, transforming them into captivating visual narratives. From Cézanne\\'s iconic \\'Three Pears\\' to Monet\\'s vibrant \\'Jerusalem Artichoke Flowers,\\' the exhibition highlights the evolution of still life across different periods and styles. The careful arrangement of fruits, flowers, and everyday items not only demonstrates technical skill but also evokes deeper themes of beauty, transience, and the passage of time. Visitors will appreciate the interplay of color, light, and form as they journey through the works of these masterful artists. The exhibition aims to foster a greater understanding of the still life genre and its significance in the broader context of art history, encouraging viewers to see the extraordinary in the ordinary.\",\\n',\n",
       " '  \"artworks_orders\": [\\n',\n",
       " '    \"Three Pears\",\\n',\n",
       " '    \"The Battle of Love\",\\n',\n",
       " '    \"Jerusalem Artichoke Flowers\",\\n',\n",
       " '    \"Still Life with Bottle, Carafe, Bread, and Wine\",\\n',\n",
       " '    \"Apples and Grapes\",\\n',\n",
       " '    \"Chrysanthemums\",\\n',\n",
       " '    \"Peaches on a Plate\",\\n',\n",
       " '    \"Flowers in a Crystal Vase\",\\n',\n",
       " '    \"Still Life with Flowers, Grapes, and Small Game Birds\",\\n',\n",
       " '    \"Eaton Family Memorial\",\\n',\n",
       " '    \"Abraham Clark and His Children\"\\n',\n",
       " '  ]\\n',\n",
       " '}\\n',\n",
       " '```']"
      ]
     },
     "execution_count": 65,
     "metadata": {},
     "output_type": "execute_result"
    }
   ],
   "source": []
  },
  {
   "cell_type": "code",
   "execution_count": null,
   "metadata": {},
   "outputs": [],
   "source": [
    "# function that transform a string of JSON into a dictionary\n",
    "def json_to_dict(json_str):\n",
    "    json_str = json_str.replace('title', '\"title\"').replace('description', '\"description\"').replace('artworks_orders', '\"artworks_orders\"')\n",
    "    json_str = json_str.replace(';', ',').replace('Three Pears, Paul C��zanne (French, 1839-1906)', 'Three Pears, Paul Cézanne (French, 1839-1906)')\n",
    "    "
   ]
  }
 ],
 "metadata": {
  "kernelspec": {
   "display_name": "metaverse_museum",
   "language": "python",
   "name": "python3"
  },
  "language_info": {
   "codemirror_mode": {
    "name": "ipython",
    "version": 3
   },
   "file_extension": ".py",
   "mimetype": "text/x-python",
   "name": "python",
   "nbconvert_exporter": "python",
   "pygments_lexer": "ipython3",
   "version": "3.10.14"
  }
 },
 "nbformat": 4,
 "nbformat_minor": 2
}
