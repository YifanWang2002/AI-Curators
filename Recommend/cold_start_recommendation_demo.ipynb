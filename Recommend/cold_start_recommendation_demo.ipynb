{
 "cells": [
  {
   "cell_type": "code",
   "execution_count": 1,
   "metadata": {},
   "outputs": [
    {
     "name": "stderr",
     "output_type": "stream",
     "text": [
      "/Applications/anaconda3/envs/metaverse_museum/lib/python3.10/site-packages/threadpoolctl.py:1214: RuntimeWarning: \n",
      "Found Intel OpenMP ('libiomp') and LLVM OpenMP ('libomp') loaded at\n",
      "the same time. Both libraries are known to be incompatible and this\n",
      "can cause random crashes or deadlocks on Linux when loaded in the\n",
      "same Python program.\n",
      "Using threadpoolctl may cause crashes or deadlocks. For more\n",
      "information and possible workarounds, please see\n",
      "    https://github.com/joblib/threadpoolctl/blob/master/multiple_openmp.md\n",
      "\n",
      "  warnings.warn(msg, RuntimeWarning)\n"
     ]
    }
   ],
   "source": [
    "import pandas as pd\n",
    "import os\n",
    "import ast\n",
    "import re\n",
    "from transformers import AutoTokenizer, AutoModel, AutoModelForMaskedLM\n",
    "import torch\n",
    "from sentence_transformers import SentenceTransformer\n",
    "import numpy as np\n",
    "from sklearn.metrics.pairwise import cosine_similarity\n",
    "from scipy.spatial.distance import euclidean\n",
    "from PIL import Image"
   ]
  },
  {
   "cell_type": "code",
   "execution_count": 2,
   "metadata": {},
   "outputs": [
    {
     "name": "stdout",
     "output_type": "stream",
     "text": [
      "tensor([1.], device='mps:0')\n"
     ]
    }
   ],
   "source": [
    "# Check which device pytorhc is using\n",
    "if torch.backends.mps.is_available():\n",
    "    device = torch.device(\"mps\")\n",
    "    x = torch.ones(1, device=device)\n",
    "    print (x)\n",
    "elif torch.cuda.is_available():\n",
    "    device = torch.device(\"cuda\" if torch.cuda.is_available() else \"cpu\")\n",
    "    x = torch.ones(1, device=device)\n",
    "    print (x)\n",
    "else:\n",
    "    print (\"MPS and CUDA devices not found.\")"
   ]
  },
  {
   "cell_type": "code",
   "execution_count": 3,
   "metadata": {},
   "outputs": [],
   "source": [
    "# Functions to save recommendations\n",
    "def display_images(filepath, image_ids, nrow=5, save_images = False):\n",
    "    # Load images\n",
    "    images = [\n",
    "        Image.open(os.path.join(\"../../GPT/images\", f\"{image_id}.jpg\")) for image_id in image_ids\n",
    "    ]\n",
    "\n",
    "    # Calculate the size of the grid\n",
    "    nrows = (len(images) + nrow - 1) // nrow\n",
    "    max_widths = [0] * nrow\n",
    "    max_heights = [0] * nrows\n",
    "    for i, img in enumerate(images):\n",
    "        row, col = divmod(i, nrow)\n",
    "        max_widths[col] = max(max_widths[col], img.width)\n",
    "        max_heights[row] = max(max_heights[row], img.height)\n",
    "\n",
    "    total_width = sum(max_widths)\n",
    "    total_height = sum(max_heights)\n",
    "\n",
    "    # Create a new blank image for the grid\n",
    "    grid_image = Image.new(\"RGB\", (total_width, total_height))\n",
    "\n",
    "    # Paste images into the grid\n",
    "    y_offset = 0\n",
    "    for row in range(nrows):\n",
    "        x_offset = 0\n",
    "        for col in range(nrow):\n",
    "            if row * nrow + col < len(images):\n",
    "                grid_image.paste(images[row * nrow + col], (x_offset, y_offset))\n",
    "            x_offset += max_widths[col]\n",
    "        y_offset += max_heights[row]\n",
    "    if save_images:\n",
    "        grid_image.save(filepath)\n",
    "    # grid_image.show()\n",
    "    print(f\"Image saved as {filepath}\")"
   ]
  },
  {
   "cell_type": "code",
   "execution_count": 4,
   "metadata": {},
   "outputs": [
    {
     "name": "stderr",
     "output_type": "stream",
     "text": [
      "/Applications/anaconda3/envs/metaverse_museum/lib/python3.10/site-packages/huggingface_hub/file_download.py:1132: FutureWarning: `resume_download` is deprecated and will be removed in version 1.0.0. Downloads always resume when possible. If you want to force a new download, use `force_download=True`.\n",
      "  warnings.warn(\n"
     ]
    }
   ],
   "source": [
    "DATA_DIR = \"data\"\n",
    "IMAGE_DIR = \"../Embedding/images\"\n",
    "OUTPUT_DIR = \"output\"\n",
    "\n",
    "# Load embedding model\n",
    "model = SentenceTransformer('all-MiniLM-L6-v2')"
   ]
  },
  {
   "cell_type": "code",
   "execution_count": 5,
   "metadata": {},
   "outputs": [],
   "source": [
    "# a function to get metadata\n",
    "def get_metadata():\n",
    "    metadata = pd.read_csv(os.path.join(DATA_DIR, \"tags_replaced.csv\"), index_col=0)\n",
    "    metadata[\"tags\"] = metadata[\"tags\"].apply(ast.literal_eval)\n",
    "    return metadata\n",
    "\n",
    "# a function to convert string of list to actual list\n",
    "def string_to_list(string):\n",
    "    string = string.replace(\"[\", \"\")\n",
    "    string = string.replace(\"]\", \"\")\n",
    "    string = string.replace(\"'\", \"\")\n",
    "    string = string.split(\", \")\n",
    "    return string\n",
    "\n",
    "# a function to remove parentheses from a string\n",
    "def remove_parentheses(text):\n",
    "    return re.sub(r'\\([^)]*\\)', '', text).strip()\n",
    "\n",
    "# This function takes the metadata and returns the dictionary of artists, and the tags of style, theme, and movement\n",
    "def get_artwork_tags(df):\n",
    "    results = []\n",
    "    for index, row in df.iterrows():\n",
    "        artist = remove_parentheses(row['artist_display'])\n",
    "        styles = string_to_list(row['style_tags'])\n",
    "        themes = string_to_list(row['theme_tags'])\n",
    "        movements = string_to_list(row['movement'])\n",
    "        results.append({\n",
    "            \"artists\": [artist],\n",
    "            \"styles\": styles,\n",
    "            \"themes\": themes,\n",
    "            \"movements\": movements\n",
    "        })\n",
    "    return results\n",
    "\n",
    "# a function to get the embeddings of the artwork as the weighted embeddings of the tags\n",
    "def create_embeddings(object, model = model):\n",
    "    artists = object['artists']\n",
    "    styles = object['styles']\n",
    "    themes = object['themes']\n",
    "    movements = object['movements']\n",
    "    #np.mean(tag_embeddings, axis=0)\n",
    "    artist_embeddings = np.mean(model.encode(artists), axis=0)\n",
    "    style_embeddings = np.mean(model.encode(styles), axis=0)\n",
    "    theme_embeddings = np.mean(model.encode(themes), axis=0)\n",
    "    movement_embeddings = np.mean(model.encode(movements), axis=0)\n",
    "    # return result in a tensor and assigne to device\n",
    "    results = torch.tensor(np.array([artist_embeddings, style_embeddings, theme_embeddings, movement_embeddings])).to(device)\n",
    "    return results\n",
    "\n",
    "# a function to get all tags of an artwork\n",
    "def get_new_tags(row):\n",
    "    artist = remove_parentheses(row['artist_display'])\n",
    "    medium = row['medium']\n",
    "    tags = list(row['tags'])\n",
    "    tags.insert(0, medium)\n",
    "    tags.insert(0, artist)\n",
    "    return tags\n",
    "    \n",
    "# calculate the similarity between two tensors using GPU with either cosine similarity, euclidean distance, or dot product\n",
    "def calculate_tensor_similarity(tensor1, tensor2, method = 'cosine'):\n",
    "    if method == 'cosine':\n",
    "        result =  torch.nn.functional.cosine_similarity(tensor1, tensor2).cpu().detach().numpy()\n",
    "    elif method == 'euclidean':\n",
    "        result =  - (torch.nn.functional.pairwise_distance(tensor1, tensor2, p=1).cpu().detach().numpy())\n",
    "    else:\n",
    "        result = np.array([torch.dot(tensor1[i], tensor2[i]).cpu().detach().numpy() for i in range(len(tensor1))])\n",
    "        # for row1, row2 in zip(tensor1, tensor2):\n",
    "        #     dot_product = row1@row2\n",
    "        #     result.append(dot_product)\n",
    "    # print(result.shape)\n",
    "    return np.average(result, weights = [0.1, 0.3, 0.3, 0.3], axis=0)\n",
    "\n",
    "# find the top k most similar artworks to the new user\n",
    "def get_top_k_similar_artworks(user_embeddings, artwork_embeddings, k = 10, method = 'cosine'):\n",
    "    results = []\n",
    "    for i, artwork in enumerate(artwork_embeddings):\n",
    "        similarity = calculate_tensor_similarity(user_embeddings, artwork, method)\n",
    "        results.append((i, similarity))\n",
    "    results = sorted(results, key=lambda x: x[1], reverse=True)\n",
    "    return results[:k]"
   ]
  },
  {
   "cell_type": "code",
   "execution_count": 6,
   "metadata": {},
   "outputs": [],
   "source": [
    "# Load metadata\n",
    "metadata = get_metadata()\n",
    "\n",
    "# Create sample users\n",
    "old_user_log = pd.DataFrame(\n",
    "        {\n",
    "            \"object_id\": [1258, 146, 150, 1155],\n",
    "            \"timestamp\": [\n",
    "                \"2024-04-28 23:12:04.378821\",\n",
    "                \"2024-04-28 23:12:10.378821\",\n",
    "                \"2024-04-28 23:13:04.378821\",\n",
    "                \"2024-04-28 23:13:10.378821\",\n",
    "            ],\n",
    "        }\n",
    "    )\n",
    "# favorite artist, Favorite Art Format, Favorite Mediums, Favorite Art Style, Favorite Genre, Favorite Period, Favorite Color, Cultural Interests\n",
    "# sample_new_user_log = ['Claude Monet', 'Paintings', 'Oil on canvas', 'Impressionism', 'Landscape', 'Late 19th Century', 'Blue', 'European']\n",
    "sample_new_user_log = {\n",
    "    \"artists\": [\"Claude Monet\", \"Auguste Renoir\"],\n",
    "    \"styles\": [\"Impressionism\", \"Brushwork\", \"Clarity\"],\n",
    "    \"themes\": [\"Nature\", \"landscapes\", \"Tranquility\"],\n",
    "    \"movements\": [\"Impressionism\", \"Dutch Golden Age\"]\n",
    "}\n",
    "\n",
    "sample_new_user_log2 = {\n",
    "    \"artists\": [\"\"],\n",
    "    \"styles\": [\"Baroque\", \"Realism\", \"Portraiture\"],\n",
    "    \"themes\": ['Nobility', 'Status', 'Youth', 'Aristocracy', 'Individuality'],\n",
    "    \"movements\": ['Baroque', 'Northern Renaissance']\n",
    "}"
   ]
  },
  {
   "cell_type": "code",
   "execution_count": 7,
   "metadata": {},
   "outputs": [],
   "source": [
    "# clean the artist names\n",
    "remove_parentheses(metadata['artist_display'].iloc[0])\n",
    "\n",
    "# get the tags of the artwork\n",
    "metadata_tags = get_artwork_tags(metadata)\n",
    "\n",
    "# get the embeddings of the artwork\n",
    "artwork_embeddings = list(map(create_embeddings, metadata_tags))"
   ]
  },
  {
   "cell_type": "code",
   "execution_count": 8,
   "metadata": {},
   "outputs": [
    {
     "name": "stdout",
     "output_type": "stream",
     "text": [
      "Image saved as output/top_50_similar_artworks_user1_consine.jpg\n",
      "Image saved as output/top_50_similar_artworks_user1_euclidean.jpg\n",
      "Image saved as output/top_50_similar_artworks_user1_dot.jpg\n"
     ]
    }
   ],
   "source": [
    "# get the embeddings of the sample user\n",
    "sample_new_user_embeddings = create_embeddings(sample_new_user_log)\n",
    "\n",
    "# get the top 50 recommendations for the sample user based on consine similarity\n",
    "top_10_results = get_top_k_similar_artworks(sample_new_user_embeddings, artwork_embeddings, 50)\n",
    "\n",
    "# save the image of the top 50 most similar artworks\n",
    "display_images(os.path.join(OUTPUT_DIR, \"top_50_similar_artworks_user1_consine.jpg\"), metadata.iloc[[x[0] for x in top_10_results]]['image_id'].values, nrow=5, save_images = True)\n",
    "\n",
    "# get the top 50 recommendations for the sample user based on euclidean similarity\n",
    "top_10_results = get_top_k_similar_artworks(sample_new_user_embeddings, artwork_embeddings, 50, 'euclidean')\n",
    "\n",
    "# save the image of the top 50 most similar artworks\n",
    "display_images(os.path.join(OUTPUT_DIR, \"top_50_similar_artworks_user1_euclidean.jpg\"), metadata.iloc[[x[0] for x in top_10_results]]['image_id'].values, nrow=5, save_images = True)\n",
    "\n",
    "# get the top 50 recommendations for the sample user based on dot product similarity\n",
    "top_10_results = get_top_k_similar_artworks(sample_new_user_embeddings, artwork_embeddings, 50, 'dot')\n",
    "\n",
    "# save the image of the top 50 most similar artworks\n",
    "display_images(os.path.join(OUTPUT_DIR, \"top_50_similar_artworks_user1_dot.jpg\"), metadata.iloc[[x[0] for x in top_10_results]]['image_id'].values, nrow=5, save_images = True)"
   ]
  },
  {
   "cell_type": "code",
   "execution_count": 9,
   "metadata": {},
   "outputs": [
    {
     "name": "stdout",
     "output_type": "stream",
     "text": [
      "Image saved as output/top_10_similar_artworks_user2_cosine.jpg\n",
      "Image saved as output/top_10_similar_artworks_user2_euclidean.jpg\n",
      "Image saved as output/top_10_similar_artworks_user2_dot.jpg\n"
     ]
    }
   ],
   "source": [
    "# get the embeddings of another sample user\n",
    "sample_new_user_embeddings2 = create_embeddings(sample_new_user_log2)\n",
    "\n",
    "# get the top 50 recommendations for the second sample user based on consine similarity\n",
    "top_10_results2 = get_top_k_similar_artworks(sample_new_user_embeddings2, artwork_embeddings, 50)\n",
    "\n",
    "# save the image of the top 50 most similar artworks\n",
    "display_images(os.path.join(OUTPUT_DIR, \"top_10_similar_artworks_user2_cosine.jpg\"), metadata.iloc[[x[0] for x in top_10_results2]]['image_id'].values, nrow=5, save_images = True)\n",
    "\n",
    "# get the top 50 recommendations for the second sample user based on euclidean similarity\n",
    "top_10_results2 = get_top_k_similar_artworks(sample_new_user_embeddings2, artwork_embeddings, 50, 'euclidean')\n",
    "\n",
    "# save the image of the top 50 most similar artworks\n",
    "display_images(os.path.join(OUTPUT_DIR, \"top_10_similar_artworks_user2_euclidean.jpg\"), metadata.iloc[[x[0] for x in top_10_results2]]['image_id'].values, nrow=5, save_images = True)\n",
    "\n",
    "# get the top 50 recommendations for the second sample user based on dot product similarity\n",
    "top_10_results2 = get_top_k_similar_artworks(sample_new_user_embeddings2, artwork_embeddings, 50, 'dot')\n",
    "\n",
    "# save the image of the top 50 most similar artworks\n",
    "display_images(os.path.join(OUTPUT_DIR, \"top_10_similar_artworks_user2_dot.jpg\"), metadata.iloc[[x[0] for x in top_10_results2]]['image_id'].values, nrow=5, save_images = True)"
   ]
  }
 ],
 "metadata": {
  "kernelspec": {
   "display_name": "metaverse_museum",
   "language": "python",
   "name": "python3"
  },
  "language_info": {
   "codemirror_mode": {
    "name": "ipython",
    "version": 3
   },
   "file_extension": ".py",
   "mimetype": "text/x-python",
   "name": "python",
   "nbconvert_exporter": "python",
   "pygments_lexer": "ipython3",
   "version": "3.10.14"
  }
 },
 "nbformat": 4,
 "nbformat_minor": 2
}
